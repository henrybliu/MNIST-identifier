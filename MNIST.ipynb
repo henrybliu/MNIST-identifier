{
 "cells": [
  {
   "cell_type": "markdown",
   "metadata": {},
   "source": [
    "## FA24 ECE 225A Final Project -- MNIST Identifier\n",
    "### By Henry Lin & Henry Liu"
   ]
  },
  {
   "cell_type": "markdown",
   "metadata": {},
   "source": [
    "## Introduction"
   ]
  },
  {
   "cell_type": "markdown",
   "metadata": {},
   "source": [
    "## Setup"
   ]
  },
  {
   "cell_type": "markdown",
   "metadata": {},
   "source": [
    "#### Library Imports"
   ]
  },
  {
   "cell_type": "code",
   "execution_count": 1,
   "metadata": {},
   "outputs": [],
   "source": [
    "%matplotlib inline\n",
    "import tensorflow as tf\n",
    "import numpy as np\n",
    "import matplotlib.pyplot as plt\n",
    "from sklearn.neighbors import BallTree\n",
    "import time"
   ]
  },
  {
   "cell_type": "markdown",
   "metadata": {},
   "source": [
    "#### MNIST Data\n",
    "MNIST is a dataset of 70,000 grayscale images of handwritten digits (0-9), commonly used for training and testing machine learning models in image classification tasks. It consists of 60,000 training images and 10,000 testing images, each sized 28x28 pixels."
   ]
  },
  {
   "cell_type": "code",
   "execution_count": 2,
   "metadata": {},
   "outputs": [
    {
     "name": "stdout",
     "output_type": "stream",
     "text": [
      "Training dataset dimensions: (50000, 784)\n",
      "Training labels dimensions: (50000,)\n",
      "Validation dataset dimensions: (10000, 784)\n",
      "Validation labels dimensions: (10000,)\n",
      "Test dataset dimensions: (10000, 784)\n",
      "Test labels dimensions (10000,)\n"
     ]
    }
   ],
   "source": [
    "(train_data, train_labels), (test_data, test_labels) = (\n",
    "    tf.keras.datasets.mnist.load_data()\n",
    ")\n",
    "\n",
    "# create a validation set that is the same size as the test set\n",
    "validation_size = len(test_data)\n",
    "validation_data = train_data[-validation_size:]\n",
    "validation_labels = train_labels[-validation_size:]\n",
    "\n",
    "train_data = train_data[:-validation_size]\n",
    "train_labels = train_labels[:-validation_size]\n",
    "\n",
    "train_data = train_data.reshape(len(train_data), 784)\n",
    "validation_data= validation_data.reshape(len(validation_data),784)\n",
    "test_data = test_data.reshape(len(test_data),784)\n",
    "\n",
    "print(\"Training dataset dimensions:\", np.shape(train_data))\n",
    "print(\"Training labels dimensions:\", np.shape(train_labels))\n",
    "print(\"Validation dataset dimensions:\", np.shape(validation_data))\n",
    "print(\"Validation labels dimensions:\", np.shape(validation_labels))\n",
    "print(\"Test dataset dimensions:\", np.shape(test_data))\n",
    "print(\"Test labels dimensions\", np.shape(test_labels))"
   ]
  },
  {
   "cell_type": "markdown",
   "metadata": {},
   "source": [
    "## K-Nearest Neighbors"
   ]
  },
  {
   "cell_type": "markdown",
   "metadata": {},
   "source": [
    "#### Euclidean Distance\n",
    "A common method to measure the distance between two points is Euclidean distance, which calculates the straight-line distance in a multi-dimensional space. In the case of MNIST, each image is represented as a point in a 784-dimensional space (28x28 pixels).\n",
    "\n",
    "So for two vectors $x, y \\in \\mathbb{R}^{784}$, their Euclidean distance is defined as: \n",
    "$$\\|x - y\\| = \\sqrt{\\sum_{i=1}^{784} (x_i - y_i)^2}$$"
   ]
  },
  {
   "cell_type": "code",
   "execution_count": 3,
   "metadata": {},
   "outputs": [],
   "source": [
    "def euclidean_distance(v1, v2):\n",
    "    \"\"\"\n",
    "    For two vectors v1 and v2, return the Euclidean distance between the two vectors.\n",
    "    \"\"\"\n",
    "    return np.linalg.norm(v1 - v2)"
   ]
  },
  {
   "cell_type": "markdown",
   "metadata": {},
   "source": [
    "#### Computing K-Nearest Neighbors\n",
    "Use the `euclidean_distance` function to compute the indices of the n nearest neighbor in `train_data`."
   ]
  },
  {
   "cell_type": "code",
   "execution_count": 4,
   "metadata": {},
   "outputs": [],
   "source": [
    "def find_k_nearest_neighbors(x, k):\n",
    "    \"\"\"\n",
    "    For a given point x, compute the indices of the k nearest neighbors in the training dataset\n",
    "    and return these indices in a list.\n",
    "    \"\"\"\n",
    "    distances = [\n",
    "        euclidean_distance(x, train_data_point) for train_data_point in train_data\n",
    "    ]\n",
    "    sorted_indices = np.argsort(distances)\n",
    "    k_indices = sorted_indices[:k]\n",
    "    return k_indices"
   ]
  },
  {
   "cell_type": "code",
   "execution_count": 5,
   "metadata": {},
   "outputs": [],
   "source": [
    "def classify_point(x, k):\n",
    "    \"\"\"\n",
    "    Classifies a given point x based on the labels of its k-nearest neighbors in the training dataset.\n",
    "    \"\"\"\n",
    "    nearest_neighbors = find_k_nearest_neighbors(x, k)\n",
    "    k_labels = [train_labels[neighbor_idx] for neighbor_idx in nearest_neighbors]\n",
    "    unique_labels, counts = np.unique(k_labels, return_counts=True)\n",
    "    max_count_idx = np.argmax(counts)\n",
    "\n",
    "    return unique_labels[max_count_idx]"
   ]
  },
  {
   "cell_type": "code",
   "execution_count": 6,
   "metadata": {},
   "outputs": [
    {
     "name": "stdout",
     "output_type": "stream",
     "text": [
      "The predicted label of the test data point is 7\n",
      "The actual label of the test data point is 7\n",
      "Taking 0.14012503623962402 seconds to classify\n"
     ]
    }
   ],
   "source": [
    "t1 = time.time()\n",
    "predicted_label = classify_point(test_data[0], 5)\n",
    "t2 = time.time()\n",
    "print(\"The predicted label of the test data point is\", predicted_label)\n",
    "print(\"The actual label of the test data point is\", test_labels[0])\n",
    "print(\"Taking\", t2 - t1, \"seconds to classify\")"
   ]
  },
  {
   "cell_type": "markdown",
   "metadata": {},
   "source": [
    "#### Optimized K-Nearest Neighbors\n",
    "We can optimize the classification time of a given point using Scikit-learn's BallTree."
   ]
  },
  {
   "cell_type": "code",
   "execution_count": 7,
   "metadata": {},
   "outputs": [],
   "source": [
    "ball_tree = BallTree(train_data)\n",
    "\n",
    "\n",
    "def optimized_classify_point(x, k):\n",
    "    \"\"\"\n",
    "    Classifies a given point x based on the labels of its k-nearest neighbors in the training dataset using BallTree.\n",
    "    \"\"\"\n",
    "    neighbors_idx = np.squeeze(\n",
    "        ball_tree.query(x.reshape(1, -1), k=k, return_distance=False)\n",
    "    )\n",
    "    ball_tree_predictions = train_labels[neighbors_idx]\n",
    "    unique_labels, counts = np.unique(ball_tree_predictions, return_counts=True)\n",
    "    max_count_idx = np.argmax(counts)\n",
    "\n",
    "    return unique_labels[max_count_idx]"
   ]
  },
  {
   "cell_type": "code",
   "execution_count": 8,
   "metadata": {},
   "outputs": [
    {
     "name": "stdout",
     "output_type": "stream",
     "text": [
      "The predicted label of the test data point is 7\n",
      "The actual label of the test data point is 7\n",
      "Taking 0.038507938385009766 seconds to classify\n"
     ]
    }
   ],
   "source": [
    "t1 = time.time()\n",
    "predicted_label = optimized_classify_point(test_data[0], 5)\n",
    "t2 = time.time()\n",
    "print(\"The predicted label of the test data point is\", predicted_label)\n",
    "print(\"The actual label of the test data point is\", test_labels[0])\n",
    "print(\"Taking\", t2-t1,\"seconds to classify\")"
   ]
  },
  {
   "cell_type": "markdown",
   "metadata": {},
   "source": [
    "#### Parameter Tuning\n",
    "Utilize the validation dataset to determine the optimal value of `k` for classifying points, aiming to achieve the highest accuracy.\n",
    "\n",
    "Test for values of `k` where `k` $\\in \\{1,3,5,7,9,10,15,20\\}$."
   ]
  },
  {
   "cell_type": "code",
   "execution_count": 9,
   "metadata": {},
   "outputs": [],
   "source": [
    "k_candidates = [1, 3, 5, 7, 9, 10, 15, 20]\n",
    "accuracy_for_k_val = {}\n",
    "\n",
    "for k in k_candidates:\n",
    "    neighbors_idx = np.squeeze(\n",
    "        ball_tree.query(validation_data, k=k, return_distance=False)\n",
    "    )\n",
    "\n",
    "    ball_tree_predictions = train_labels[neighbors_idx]\n",
    "\n",
    "    predicted_labels = []\n",
    "    for prediction in ball_tree_predictions:\n",
    "        unique_labels, counts = np.unique(prediction, return_counts=True)\n",
    "        max_count_idx = np.argmax(counts)\n",
    "        predicted_labels.append(unique_labels[max_count_idx])\n",
    "\n",
    "    correct_predictions = np.sum(predicted_labels == validation_labels)\n",
    "    accuracy = correct_predictions / len(validation_labels)\n",
    "    accuracy_for_k_val[k] = accuracy"
   ]
  },
  {
   "cell_type": "code",
   "execution_count": 10,
   "metadata": {},
   "outputs": [
    {
     "data": {
      "image/png": "[encoded data removed]",
      "text/plain": [
       "<Figure size 640x480 with 1 Axes>"
      ]
     },
     "metadata": {},
     "output_type": "display_data"
    }
   ],
   "source": [
    "k_values = list(accuracy_for_k_val.keys())\n",
    "accuracies = list(accuracy_for_k_val.values())\n",
    "\n",
    "plt.figure()\n",
    "plt.plot(k_values, accuracies, marker=\"o\", linestyle=\"-\", color=\"b\", label=\"Accuracy\")\n",
    "\n",
    "plt.xlabel(\"k Values\")\n",
    "plt.ylabel(\"Accuracy\")\n",
    "plt.title(\"Validation Accuracy for Different k Values\")\n",
    "plt.legend()\n",
    "\n",
    "for i, (k, accuracy) in enumerate(zip(k_values, accuracies)):\n",
    "    plt.text(\n",
    "        k, accuracy, f\"({k}, {accuracy:.4f})\", fontsize=9, ha=\"left\", color=\"black\"\n",
    "    )\n",
    "\n",
    "plt.grid(True)\n",
    "plt.show()"
   ]
  },
  {
   "cell_type": "markdown",
   "metadata": {},
   "source": [
    "`k` = 3 yields the highest accuracy on the validation set."
   ]
  },
  {
   "cell_type": "markdown",
   "metadata": {},
   "source": [
    "#### Test Error\n",
    "From the validation set, we found that the optimal `k` value is 3. We will now evaluate its performance by testing the error rate on the test dataset."
   ]
  },
  {
   "cell_type": "code",
   "execution_count": 11,
   "metadata": {},
   "outputs": [
    {
     "name": "stdout",
     "output_type": "stream",
     "text": [
      "Accuracy for k=3: 0.9681\n"
     ]
    }
   ],
   "source": [
    "neighbors_idx = np.squeeze(ball_tree.query(test_data, k=3, return_distance=False))\n",
    "\n",
    "ball_tree_predictions = train_labels[neighbors_idx]\n",
    "\n",
    "predicted_labels = []\n",
    "for prediction in ball_tree_predictions:\n",
    "    unique_labels, counts = np.unique(prediction, return_counts=True)\n",
    "    max_count_idx = np.argmax(counts)\n",
    "    predicted_labels.append(unique_labels[max_count_idx])\n",
    "\n",
    "correct_predictions = np.sum(predicted_labels == test_labels)\n",
    "accuracy = correct_predictions / len(test_labels)\n",
    "\n",
    "print(\"Accuracy for k=3:\", accuracy)"
   ]
  }
 ],
 "metadata": {
  "kernelspec": {
   "display_name": "base",
   "language": "python",
   "name": "python3"
  },
  "language_info": {
   "codemirror_mode": {
    "name": "ipython",
    "version": 3
   },
   "file_extension": ".py",
   "mimetype": "text/x-python",
   "name": "python",
   "nbconvert_exporter": "python",
   "pygments_lexer": "ipython3",
   "version": "3.10.11"
  }
 },
 "nbformat": 4,
 "nbformat_minor": 2
}
